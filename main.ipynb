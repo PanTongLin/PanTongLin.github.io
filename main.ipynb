{
  "nbformat": 4,
  "nbformat_minor": 0,
  "metadata": {
    "colab": {
      "name": "歡迎使用 Colaboratory",
      "provenance": [],
      "collapsed_sections": [],
      "include_colab_link": true
    },
    "kernelspec": {
      "display_name": "Python 3",
      "name": "python3"
    }
  },
  "cells": [
    {
      "cell_type": "markdown",
      "metadata": {
        "id": "view-in-github",
        "colab_type": "text"
      },
      "source": [
        "<a href=\"https://colab.research.google.com/github/PanTongLin/PanTongLin.github.io/blob/master/main.ipynb\" target=\"_parent\"><img src=\"https://colab.research.google.com/assets/colab-badge.svg\" alt=\"Open In Colab\"/></a>"
      ]
    },
    {
      "cell_type": "code",
      "metadata": {
        "id": "Kh9ovATi6WYm"
      },
      "source": [
        "import torch"
      ],
      "execution_count": 1,
      "outputs": []
    },
    {
      "cell_type": "code",
      "metadata": {
        "id": "Gsrm1GIE6rcb",
        "colab": {
          "base_uri": "https://localhost:8080/"
        },
        "outputId": "8e64c4a4-b5ce-4b7b-de4e-d6eff89f7314"
      },
      "source": [
        "a = torch.Tensor([[[[1], [3]], [[9], [11]]],\r\n",
        "          [[[2], [4]], [[10], [12]]],\r\n",
        "          [[[5], [7]], [[13], [15]]],\r\n",
        "          [[[6], [8]], [[14], [16]]]])\r\n",
        "print(a.size())\r\n",
        "bs = a.size(0)\r\n",
        "cs = a.size(1)\r\n",
        "hs = a.size(2)\r\n",
        "ws = a.size(3)"
      ],
      "execution_count": 2,
      "outputs": [
        {
          "output_type": "stream",
          "text": [
            "torch.Size([4, 2, 2, 1])\n"
          ],
          "name": "stdout"
        }
      ]
    },
    {
      "cell_type": "code",
      "metadata": {
        "id": "sf-jzz-s8vVo"
      },
      "source": [
        "block_s = (2, 2)"
      ],
      "execution_count": 3,
      "outputs": []
    },
    {
      "cell_type": "code",
      "metadata": {
        "id": "g9KcO-s07Z7I",
        "colab": {
          "base_uri": "https://localhost:8080/"
        },
        "outputId": "ce026a07-7864-47dd-ddc7-21a47472fa9e"
      },
      "source": [
        "b = a.reshape((bs//block_s[0], block_s[0], cs, hs, ws))\r\n",
        "b = b.transpose(1, 2)\r\n",
        "print(b)\r\n"
      ],
      "execution_count": 4,
      "outputs": [
        {
          "output_type": "stream",
          "text": [
            "tensor([[[[[ 1.],\n",
            "           [ 3.]],\n",
            "\n",
            "          [[ 2.],\n",
            "           [ 4.]]],\n",
            "\n",
            "\n",
            "         [[[ 9.],\n",
            "           [11.]],\n",
            "\n",
            "          [[10.],\n",
            "           [12.]]]],\n",
            "\n",
            "\n",
            "\n",
            "        [[[[ 5.],\n",
            "           [ 7.]],\n",
            "\n",
            "          [[ 6.],\n",
            "           [ 8.]]],\n",
            "\n",
            "\n",
            "         [[[13.],\n",
            "           [15.]],\n",
            "\n",
            "          [[14.],\n",
            "           [16.]]]]])\n"
          ],
          "name": "stdout"
        }
      ]
    }
  ]
}