{
  "nbformat": 4,
  "nbformat_minor": 0,
  "metadata": {
    "colab": {
      "name": "歡迎使用 Colaboratory",
      "provenance": [],
      "collapsed_sections": [],
      "include_colab_link": true
    },
    "kernelspec": {
      "display_name": "Python 3",
      "name": "python3"
    }
  },
  "cells": [
    {
      "cell_type": "markdown",
      "metadata": {
        "id": "view-in-github",
        "colab_type": "text"
      },
      "source": [
        "<a href=\"https://colab.research.google.com/github/PanTongLin/PanTongLin.github.io/blob/master/main.ipynb\" target=\"_parent\"><img src=\"https://colab.research.google.com/assets/colab-badge.svg\" alt=\"Open In Colab\"/></a>"
      ]
    },
    {
      "cell_type": "code",
      "metadata": {
        "id": "Kh9ovATi6WYm"
      },
      "source": [
        "import torch"
      ],
      "execution_count": null,
      "outputs": []
    },
    {
      "cell_type": "markdown",
      "metadata": {
        "id": "dZWnjU_A0uvx"
      },
      "source": [
        "## batch to space"
      ]
    },
    {
      "cell_type": "code",
      "metadata": {
        "id": "Gsrm1GIE6rcb"
      },
      "source": [
        "a = torch.Tensor([[[[1], [3]], [[9], [11]]],\r\n",
        "          [[[2], [4]], [[10], [12]]],\r\n",
        "          [[[5], [7]], [[13], [15]]],\r\n",
        "          [[[6], [8]], [[14], [16]]]])\r\n",
        "print(a.size())\r\n",
        "bs = a.size(0)\r\n",
        "hs = a.size(1)\r\n",
        "ws = a.size(2)\r\n",
        "cs = a.size(3)"
      ],
      "execution_count": null,
      "outputs": []
    },
    {
      "cell_type": "code",
      "metadata": {
        "id": "sf-jzz-s8vVo"
      },
      "source": [
        "block_s = (2, 2)"
      ],
      "execution_count": null,
      "outputs": []
    },
    {
      "cell_type": "code",
      "metadata": {
        "id": "g9KcO-s07Z7I"
      },
      "source": [
        "_bs = bs//block_s[1]\r\n",
        "_ws = ws*block_s[1]\r\n",
        "b = a.reshape((_bs, block_s[1], hs, ws, cs))\r\n",
        "b = b.permute(0, 2, 3, 1, 4) #_bs, hs, _ws, block_s[1], cs\r\n",
        "b = b.reshape((_bs, hs, _ws, cs))\r\n",
        "print(b)\r\n",
        "\r\n",
        "_bs = _bs//block_s[0]\r\n",
        "_hs = hs*block_s[0]\r\n",
        "b = b.reshape((_bs, block_s[0], hs, _ws, cs))\r\n",
        "b = b.permute(0, 2, 1, 3, 4) #_bs, hw, block_s[0], _ws, cs\r\n",
        "b = b.reshape((_bs, _hs, _ws, cs))\r\n",
        "print(b)"
      ],
      "execution_count": null,
      "outputs": []
    },
    {
      "cell_type": "markdown",
      "metadata": {
        "id": "bI6f7o2z01_K"
      },
      "source": [
        "## space to batch"
      ]
    },
    {
      "cell_type": "code",
      "metadata": {
        "id": "TE9cMkjt01oG"
      },
      "source": [
        "a = torch.Tensor([[[[1.], [2.], [3.], [4.]],\r\n",
        "           [[5.], [6.], [7.], [8.]],\r\n",
        "           [[9.], [10.], [11.], [12.]],\r\n",
        "           [[13.], [14.], [15.], [16.]]]])\r\n",
        "print(a.size())\r\n",
        "bs = a.size(0)\r\n",
        "hs = a.size(1)\r\n",
        "ws = a.size(2)\r\n",
        "cs = a.size(3)"
      ],
      "execution_count": null,
      "outputs": []
    },
    {
      "cell_type": "code",
      "metadata": {
        "id": "l7n9jQbM0-4B"
      },
      "source": [
        "block_s = (2, 2)"
      ],
      "execution_count": null,
      "outputs": []
    },
    {
      "cell_type": "code",
      "metadata": {
        "id": "cqSwc7490_fB"
      },
      "source": [
        "_bs = bs*block_s[0]\r\n",
        "_hs = hs//block_s[0]\r\n",
        "b = a.reshape((bs, _hs, block_s[0], ws, cs))\r\n",
        "b = b.permute(0, 2, 1, 3, 4)\r\n",
        "b = b.reshape((_bs, _hs, ws, cs))\r\n",
        "print(b)\r\n",
        "\r\n",
        "_ws = ws//block_s[1]\r\n",
        "b = b.reshape((_bs, _hs, _ws, block_s[1], cs))\r\n",
        "b = b.permute(0, 3, 1, 2, 4)\r\n",
        "_bs = _bs*block_s[1]\r\n",
        "b = b.reshape((_bs, _hs, _ws, cs))\r\n",
        "print(b)"
      ],
      "execution_count": null,
      "outputs": []
    },
    {
      "cell_type": "markdown",
      "metadata": {
        "id": "UA69BFoy-yPB"
      },
      "source": [
        "## space to depth"
      ]
    },
    {
      "cell_type": "code",
      "metadata": {
        "colab": {
          "base_uri": "https://localhost:8080/"
        },
        "id": "5d_bvh-a6ZjA",
        "outputId": "ba640bbd-279b-476f-a708-9639a65a3db6"
      },
      "source": [
        "a = torch.Tensor([[[[1.], [2.], [5.], [6.]],\r\n",
        "           [[3.], [4.], [7.], [8.]],\r\n",
        "           [[9.], [10.], [13.], [14.]],\r\n",
        "           [[11.], [12.], [15.], [16.]]]])\r\n",
        "print(a.size())\r\n",
        "bs = a.size(0)\r\n",
        "hs = a.size(1)\r\n",
        "ws = a.size(2)\r\n",
        "cs = a.size(3)"
      ],
      "execution_count": 35,
      "outputs": [
        {
          "output_type": "stream",
          "text": [
            "torch.Size([1, 4, 4, 1])\n"
          ],
          "name": "stdout"
        }
      ]
    },
    {
      "cell_type": "code",
      "metadata": {
        "id": "kDhDLhvq-5dI"
      },
      "source": [
        "block_s = 2"
      ],
      "execution_count": 36,
      "outputs": []
    },
    {
      "cell_type": "code",
      "metadata": {
        "id": "pooUSpdT-824",
        "outputId": "7281d893-a926-42bd-d468-bd47e917a71e",
        "colab": {
          "base_uri": "https://localhost:8080/"
        }
      },
      "source": [
        "_hs = hs//block_s\r\n",
        "_ws = ws//block_s\r\n",
        "_cs = cs*block_s*block_s\r\n",
        "b = a.reshape((bs, _hs, block_s, _ws, block_s, cs))\r\n",
        "b = b.permute(0, 1, 3, 2, 4, 5)\r\n",
        "b = b.reshape((bs, _hs, _ws, _cs))\r\n",
        "print(b)"
      ],
      "execution_count": 48,
      "outputs": [
        {
          "output_type": "stream",
          "text": [
            "tensor([[[[ 1.,  2.,  3.,  4.],\n",
            "          [ 5.,  6.,  7.,  8.]],\n",
            "\n",
            "         [[ 9., 10., 11., 12.],\n",
            "          [13., 14., 15., 16.]]]])\n"
          ],
          "name": "stdout"
        }
      ]
    }
  ]
}