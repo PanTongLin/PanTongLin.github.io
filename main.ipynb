{
  "nbformat": 4,
  "nbformat_minor": 0,
  "metadata": {
    "colab": {
      "name": "歡迎使用 Colaboratory",
      "provenance": [],
      "collapsed_sections": [],
      "include_colab_link": true
    },
    "kernelspec": {
      "display_name": "Python 3",
      "name": "python3"
    }
  },
  "cells": [
    {
      "cell_type": "markdown",
      "metadata": {
        "id": "view-in-github",
        "colab_type": "text"
      },
      "source": [
        "<a href=\"https://colab.research.google.com/github/PanTongLin/PanTongLin.github.io/blob/master/main.ipynb\" target=\"_parent\"><img src=\"https://colab.research.google.com/assets/colab-badge.svg\" alt=\"Open In Colab\"/></a>"
      ]
    },
    {
      "cell_type": "code",
      "metadata": {
        "id": "Kh9ovATi6WYm"
      },
      "source": [
        "import torch"
      ],
      "execution_count": null,
      "outputs": []
    },
    {
      "cell_type": "markdown",
      "metadata": {
        "id": "dZWnjU_A0uvx"
      },
      "source": [
        "## batch to space"
      ]
    },
    {
      "cell_type": "code",
      "metadata": {
        "id": "Gsrm1GIE6rcb"
      },
      "source": [
        "a = torch.Tensor([[[[1], [3]], [[9], [11]]],\r\n",
        "          [[[2], [4]], [[10], [12]]],\r\n",
        "          [[[5], [7]], [[13], [15]]],\r\n",
        "          [[[6], [8]], [[14], [16]]]])\r\n",
        "print(a.size())\r\n",
        "bs = a.size(0)\r\n",
        "hs = a.size(1)\r\n",
        "ws = a.size(2)\r\n",
        "cs = a.size(3)"
      ],
      "execution_count": null,
      "outputs": []
    },
    {
      "cell_type": "code",
      "metadata": {
        "id": "sf-jzz-s8vVo"
      },
      "source": [
        "block_s = (2, 2)"
      ],
      "execution_count": null,
      "outputs": []
    },
    {
      "cell_type": "code",
      "metadata": {
        "id": "g9KcO-s07Z7I"
      },
      "source": [
        "_bs = bs//block_s[1]\r\n",
        "_ws = ws*block_s[1]\r\n",
        "b = a.reshape((_bs, block_s[1], hs, ws, cs))\r\n",
        "b = b.permute(0, 2, 3, 1, 4) #_bs, hs, _ws, block_s[1], cs\r\n",
        "b = b.reshape((_bs, hs, _ws, cs))\r\n",
        "print(b)\r\n",
        "\r\n",
        "_bs = _bs//block_s[0]\r\n",
        "_hs = hs*block_s[0]\r\n",
        "b = b.reshape((_bs, block_s[0], hs, _ws, cs))\r\n",
        "b = b.permute(0, 2, 1, 3, 4) #_bs, hw, block_s[0], _ws, cs\r\n",
        "b = b.reshape((_bs, _hs, _ws, cs))\r\n",
        "print(b)"
      ],
      "execution_count": null,
      "outputs": []
    },
    {
      "cell_type": "markdown",
      "metadata": {
        "id": "bI6f7o2z01_K"
      },
      "source": [
        "## space to batch"
      ]
    },
    {
      "cell_type": "code",
      "metadata": {
        "id": "TE9cMkjt01oG"
      },
      "source": [
        "a = torch.Tensor([[[[1.], [2.], [3.], [4.]],\r\n",
        "           [[5.], [6.], [7.], [8.]],\r\n",
        "           [[9.], [10.], [11.], [12.]],\r\n",
        "           [[13.], [14.], [15.], [16.]]]])\r\n",
        "print(a.size())\r\n",
        "bs = a.size(0)\r\n",
        "hs = a.size(1)\r\n",
        "ws = a.size(2)\r\n",
        "cs = a.size(3)"
      ],
      "execution_count": null,
      "outputs": []
    },
    {
      "cell_type": "code",
      "metadata": {
        "id": "l7n9jQbM0-4B"
      },
      "source": [
        "block_s = (2, 2)"
      ],
      "execution_count": null,
      "outputs": []
    },
    {
      "cell_type": "code",
      "metadata": {
        "id": "cqSwc7490_fB"
      },
      "source": [
        "_bs = bs*block_s[0]\r\n",
        "_hs = hs//block_s[0]\r\n",
        "b = a.reshape((bs, _hs, block_s[0], ws, cs))\r\n",
        "b = b.permute(0, 2, 1, 3, 4)\r\n",
        "b = b.reshape((_bs, _hs, ws, cs))\r\n",
        "print(b)\r\n",
        "\r\n",
        "_ws = ws//block_s[1]\r\n",
        "b = b.reshape((_bs, _hs, _ws, block_s[1], cs))\r\n",
        "b = b.permute(0, 3, 1, 2, 4)\r\n",
        "_bs = _bs*block_s[1]\r\n",
        "b = b.reshape((_bs, _hs, _ws, cs))\r\n",
        "print(b)"
      ],
      "execution_count": null,
      "outputs": []
    },
    {
      "cell_type": "markdown",
      "metadata": {
        "id": "UA69BFoy-yPB"
      },
      "source": [
        "## space to depth"
      ]
    },
    {
      "cell_type": "code",
      "metadata": {
        "colab": {
          "base_uri": "https://localhost:8080/"
        },
        "id": "5d_bvh-a6ZjA",
        "outputId": "ba640bbd-279b-476f-a708-9639a65a3db6"
      },
      "source": [
        "a = torch.Tensor([[[[1.], [2.], [5.], [6.]],\r\n",
        "           [[3.], [4.], [7.], [8.]],\r\n",
        "           [[9.], [10.], [13.], [14.]],\r\n",
        "           [[11.], [12.], [15.], [16.]]]])\r\n",
        "print(a.size())\r\n",
        "bs = a.size(0)\r\n",
        "hs = a.size(1)\r\n",
        "ws = a.size(2)\r\n",
        "cs = a.size(3)"
      ],
      "execution_count": null,
      "outputs": [
        {
          "output_type": "stream",
          "text": [
            "torch.Size([1, 4, 4, 1])\n"
          ],
          "name": "stdout"
        }
      ]
    },
    {
      "cell_type": "code",
      "metadata": {
        "id": "kDhDLhvq-5dI"
      },
      "source": [
        "block_s = 2"
      ],
      "execution_count": null,
      "outputs": []
    },
    {
      "cell_type": "code",
      "metadata": {
        "id": "pooUSpdT-824",
        "colab": {
          "base_uri": "https://localhost:8080/"
        },
        "outputId": "7281d893-a926-42bd-d468-bd47e917a71e"
      },
      "source": [
        "_hs = hs//block_s\r\n",
        "_ws = ws//block_s\r\n",
        "_cs = cs*block_s*block_s\r\n",
        "b = a.reshape((bs, _hs, block_s, _ws, block_s, cs))\r\n",
        "b = b.permute(0, 1, 3, 2, 4, 5)\r\n",
        "b = b.reshape((bs, _hs, _ws, _cs))\r\n",
        "print(b)"
      ],
      "execution_count": null,
      "outputs": [
        {
          "output_type": "stream",
          "text": [
            "tensor([[[[ 1.,  2.,  3.,  4.],\n",
            "          [ 5.,  6.,  7.,  8.]],\n",
            "\n",
            "         [[ 9., 10., 11., 12.],\n",
            "          [13., 14., 15., 16.]]]])\n"
          ],
          "name": "stdout"
        }
      ]
    },
    {
      "cell_type": "code",
      "metadata": {
        "colab": {
          "base_uri": "https://localhost:8080/"
        },
        "id": "3BxiAgg8TDGi",
        "outputId": "5c02333e-7961-477e-f9f8-b817d8801463"
      },
      "source": [
        "!sh"
      ],
      "execution_count": 1,
      "outputs": [
        {
          "output_type": "stream",
          "text": [
            "sh: 0: can't access tty; job control turned off\n",
            "sh: 9: shopt: not found\n",
            "sh: 17: shopt: not found\n",
            "\\[\\033[01;34m\\]\\w\\[\\033[00m\\]$ ssh s755369@140.113.202.141\n",
            "00000000\n",
            "\n",
            "\n",
            "\\[\\033[01;34m\\]\\w\\[\\033[00m\\]$ sh: 2: 00000000: not found\n",
            "\\[\\033[01;34m\\]\\w\\[\\033[00m\\]$ \\[\\033[01;34m\\]\\w\\[\\033[00m\\]$ \n",
            "\\[\\033[01;34m\\]\\w\\[\\033[00m\\]$ \n",
            "\\[\\033[01;34m\\]\\w\\[\\033[00m\\]$ ^C\n"
          ],
          "name": "stdout"
        }
      ]
    },
    {
      "cell_type": "code",
      "metadata": {
        "id": "RLPT6qnG1j-F"
      },
      "source": [
        "import torch\r\n",
        "import matplotlib.pyplot as plt"
      ],
      "execution_count": 1,
      "outputs": []
    },
    {
      "cell_type": "code",
      "metadata": {
        "id": "XKBzusl01mJk"
      },
      "source": [
        "a = torch.linspace(-10, 10, 1000)\r\n",
        "b = torch.nn.functional.relu6(a+3)/6"
      ],
      "execution_count": 12,
      "outputs": []
    },
    {
      "cell_type": "code",
      "metadata": {
        "colab": {
          "base_uri": "https://localhost:8080/",
          "height": 265
        },
        "id": "i-35I_LI17zL",
        "outputId": "73de91ba-4af1-4969-be7a-7a83ffc02bfc"
      },
      "source": [
        "plt.plot(a, b)\r\n",
        "plt.show()"
      ],
      "execution_count": 13,
      "outputs": [
        {
          "output_type": "display_data",
          "data": {
            "image/png": "[encoded data removed]",
            "text/plain": [
              "<Figure size 432x288 with 1 Axes>"
            ]
          },
          "metadata": {
            "tags": [],
            "needs_background": "light"
          }
        }
      ]
    },
    {
      "cell_type": "markdown",
      "metadata": {
        "id": "VgVrNA8poLF1"
      },
      "source": [
        "(x+3)/6 = x/6 + 0.5"
      ]
    },
    {
      "cell_type": "code",
      "metadata": {
        "id": "OG9g2R3654dk"
      },
      "source": [
        "a = torch.Tensor([-2.75])"
      ],
      "execution_count": 5,
      "outputs": []
    },
    {
      "cell_type": "code",
      "metadata": {
        "colab": {
          "base_uri": "https://localhost:8080/"
        },
        "id": "W5H_3RlR56_C",
        "outputId": "573e3ad0-449f-474e-c01d-191b9689311d"
      },
      "source": [
        "torch.nn.functional.leaky_relu(a)"
      ],
      "execution_count": 6,
      "outputs": [
        {
          "output_type": "execute_result",
          "data": {
            "text/plain": [
              "tensor([-0.0275])"
            ]
          },
          "metadata": {
            "tags": []
          },
          "execution_count": 6
        }
      ]
    },
    {
      "cell_type": "code",
      "metadata": {
        "colab": {
          "base_uri": "https://localhost:8080/"
        },
        "id": "xsd1uR1W6Mni",
        "outputId": "fd869f78-c14b-4342-c335-6785dddaf1c2"
      },
      "source": [
        "torch.nn.functional.relu6(a+3)/6"
      ],
      "execution_count": 7,
      "outputs": [
        {
          "output_type": "execute_result",
          "data": {
            "text/plain": [
              "tensor([0.0417])"
            ]
          },
          "metadata": {
            "tags": []
          },
          "execution_count": 7
        }
      ]
    },
    {
      "cell_type": "code",
      "metadata": {
        "colab": {
          "base_uri": "https://localhost:8080/"
        },
        "id": "G2EqsA43o_UG",
        "outputId": "fca48425-f939-451e-c9d7-08a133c08443"
      },
      "source": [
        "a = torch.Tensor([-2.5])\r\n",
        "torch.nn.functional.hardswish(a)"
      ],
      "execution_count": 9,
      "outputs": [
        {
          "output_type": "execute_result",
          "data": {
            "text/plain": [
              "tensor([-0.2083])"
            ]
          },
          "metadata": {
            "tags": []
          },
          "execution_count": 9
        }
      ]
    },
    {
      "cell_type": "code",
      "metadata": {
        "id": "hq7Vv7Chx4dA"
      },
      "source": [
        ""
      ],
      "execution_count": null,
      "outputs": []
    },
    {
      "cell_type": "code",
      "metadata": {
        "id": "Zn-2FjAdx5IH"
      },
      "source": [
        "a = torch.randn(1, 4, 5, 5, 5)\r\n",
        "w = torch.randn(4, 4, 3, 3, 3)"
      ],
      "execution_count": 3,
      "outputs": []
    },
    {
      "cell_type": "code",
      "metadata": {
        "colab": {
          "base_uri": "https://localhost:8080/"
        },
        "id": "6PyzS06byGFl",
        "outputId": "254f3be9-3452-488c-92c5-64e92dad9ea0"
      },
      "source": [
        "torch.nn.functional.conv3d(a, w)"
      ],
      "execution_count": 5,
      "outputs": [
        {
          "output_type": "execute_result",
          "data": {
            "text/plain": [
              "tensor([[[[[-12.4344, -11.6190,   5.6177],\n",
              "           [  1.3536,   2.2060,   3.7965],\n",
              "           [  1.5861,   4.4353,  -9.3664]],\n",
              "\n",
              "          [[  4.7155,  -1.9071,  -3.5998],\n",
              "           [  4.2253,   2.1834,  21.4692],\n",
              "           [ -4.5008,  -2.8452, -17.4580]],\n",
              "\n",
              "          [[ 10.4548,  -4.3965,   6.0952],\n",
              "           [ 12.5653,   2.2464, -12.4085],\n",
              "           [  1.4456,   4.4300,   5.2494]]],\n",
              "\n",
              "\n",
              "         [[[-13.3893,  12.2996,  15.9262],\n",
              "           [ -4.2454,  -6.4254,   5.3520],\n",
              "           [  2.8088,   5.3971,  -1.9970]],\n",
              "\n",
              "          [[ 10.8354,  17.2108,  10.8460],\n",
              "           [ -2.5812,  -7.1705,  -2.2616],\n",
              "           [  1.2585,  12.3638,   6.9987]],\n",
              "\n",
              "          [[ -9.9400,  15.8386,   4.6356],\n",
              "           [  1.8966,  -8.3678,   4.1566],\n",
              "           [ -2.0304,  -1.5439,  -8.6825]]],\n",
              "\n",
              "\n",
              "         [[[  8.1853,   6.1762,  -3.0793],\n",
              "           [  2.8703,   1.2286,   6.2210],\n",
              "           [  0.8066,   5.2324,  -6.9223]],\n",
              "\n",
              "          [[  2.0390,   2.4690,  -0.9860],\n",
              "           [ -7.7627,  17.0593,   5.6817],\n",
              "           [ -2.6432, -11.6735,   9.1815]],\n",
              "\n",
              "          [[ 15.2633,  11.7082,  -3.8141],\n",
              "           [  8.8292,   5.8389, -10.8357],\n",
              "           [ -0.1323,  -1.8091,  -1.6805]]],\n",
              "\n",
              "\n",
              "         [[[-22.9766,  -6.5258, -11.4834],\n",
              "           [  4.7155,  -3.3099,  18.1235],\n",
              "           [ -8.4407,  -1.8341,   5.4252]],\n",
              "\n",
              "          [[ -1.3180,  12.6881,  -9.6897],\n",
              "           [  6.7381,  -4.6615, -15.3377],\n",
              "           [ 20.9395,   7.0222,   6.7337]],\n",
              "\n",
              "          [[ -1.7702,   1.2760,  10.7297],\n",
              "           [  4.7214,   1.4189,  10.6515],\n",
              "           [-12.9094,   3.1502,  14.5386]]]]])"
            ]
          },
          "metadata": {
            "tags": []
          },
          "execution_count": 5
        }
      ]
    },
    {
      "cell_type": "code",
      "metadata": {
        "id": "_1p7I6BGyUoV"
      },
      "source": [
        "for i in range(5-2):\r\n",
        "  for j in range(4):\r\n",
        "    _c = torch.nn.functional.conv2d(a[:, j, i:i+3], w[:, j])\r\n",
        "    if j==0:\r\n",
        "      c = _c\r\n",
        "    else:\r\n",
        "      c = c + _c\r\n",
        "  \r\n",
        "  c = c.unsqueeze(dim=2) # N, C, H, W -> N, C, D=1, H, W\r\n",
        "  if i==0:\r\n",
        "    out = c\r\n",
        "  else:\r\n",
        "    out = torch.cat([out, c], dim=2)\r\n",
        "print(out)"
      ],
      "execution_count": null,
      "outputs": []
    },
    {
      "cell_type": "code",
      "metadata": {
        "id": "twkKE2B4Gui1"
      },
      "source": [
        "# a = torch.randn(1, 4, 5, 5, 5) N, C, D, H, W\r\n",
        "# w = torch.randn(4, 4, 3, 3, 3) OC, IC, D, H, W\r\n",
        "\r\n",
        "for i in range(5-2):\r\n",
        "  c0 = torch.nn.functional.conv2d(a[:, :, i], w[:,:,0])\r\n",
        "  c1 = torch.nn.functional.conv2d(a[:, :, i+1], w[:,:,1])\r\n",
        "  c2 = torch.nn.functional.conv2d(a[:, :, i+2], w[:,:,2])\r\n",
        "\r\n",
        "  c = c0 + c1 + c2\r\n",
        "\r\n",
        "  c = c.unsqueeze(dim=2) # N, C, H, W -> N, C, D=1, H, W\r\n",
        "\r\n",
        "  if i==0:\r\n",
        "    out = c\r\n",
        "  else:\r\n",
        "    out = torch.cat([out, c], dim=2)\r\n",
        "print(out)"
      ],
      "execution_count": null,
      "outputs": []
    },
    {
      "cell_type": "code",
      "metadata": {
        "colab": {
          "base_uri": "https://localhost:8080/"
        },
        "id": "0TcgR2Gs4Plf",
        "outputId": "28661627-79f9-4496-b8af-762745f4f4e9"
      },
      "source": [
        "(out-torch.nn.functional.conv3d(a, w)).abs()>1e-5"
      ],
      "execution_count": 19,
      "outputs": [
        {
          "output_type": "execute_result",
          "data": {
            "text/plain": [
              "tensor([[[[[False, False, False],\n",
              "           [False, False, False],\n",
              "           [False, False, False]],\n",
              "\n",
              "          [[False, False, False],\n",
              "           [False, False, False],\n",
              "           [False, False, False]],\n",
              "\n",
              "          [[False, False, False],\n",
              "           [False, False, False],\n",
              "           [False, False, False]]],\n",
              "\n",
              "\n",
              "         [[[False, False, False],\n",
              "           [False, False, False],\n",
              "           [False, False, False]],\n",
              "\n",
              "          [[False, False, False],\n",
              "           [False, False, False],\n",
              "           [False, False, False]],\n",
              "\n",
              "          [[False, False, False],\n",
              "           [False, False, False],\n",
              "           [False, False, False]]],\n",
              "\n",
              "\n",
              "         [[[False, False, False],\n",
              "           [False, False, False],\n",
              "           [False, False, False]],\n",
              "\n",
              "          [[False, False, False],\n",
              "           [False, False, False],\n",
              "           [False, False, False]],\n",
              "\n",
              "          [[False, False, False],\n",
              "           [False, False, False],\n",
              "           [False, False, False]]],\n",
              "\n",
              "\n",
              "         [[[False, False, False],\n",
              "           [False, False, False],\n",
              "           [False, False, False]],\n",
              "\n",
              "          [[False, False, False],\n",
              "           [False, False, False],\n",
              "           [False, False, False]],\n",
              "\n",
              "          [[False, False, False],\n",
              "           [False, False, False],\n",
              "           [False, False, False]]]]])"
            ]
          },
          "metadata": {
            "tags": []
          },
          "execution_count": 19
        }
      ]
    }
  ]
}