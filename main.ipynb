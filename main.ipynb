{
  "nbformat": 4,
  "nbformat_minor": 0,
  "metadata": {
    "colab": {
      "name": "歡迎使用 Colaboratory",
      "provenance": [],
      "collapsed_sections": [],
      "include_colab_link": true
    },
    "kernelspec": {
      "display_name": "Python 3",
      "name": "python3"
    }
  },
  "cells": [
    {
      "cell_type": "markdown",
      "metadata": {
        "id": "view-in-github",
        "colab_type": "text"
      },
      "source": [
        "<a href=\"https://colab.research.google.com/github/PanTongLin/PanTongLin.github.io/blob/master/main.ipynb\" target=\"_parent\"><img src=\"https://colab.research.google.com/assets/colab-badge.svg\" alt=\"Open In Colab\"/></a>"
      ]
    },
    {
      "cell_type": "code",
      "metadata": {
        "id": "Kh9ovATi6WYm"
      },
      "source": [
        "import torch"
      ],
      "execution_count": 2,
      "outputs": []
    },
    {
      "cell_type": "markdown",
      "metadata": {
        "id": "dZWnjU_A0uvx"
      },
      "source": [
        "## batch to depth"
      ]
    },
    {
      "cell_type": "code",
      "metadata": {
        "id": "Gsrm1GIE6rcb",
        "colab": {
          "base_uri": "https://localhost:8080/"
        },
        "outputId": "47ec93a6-e153-49a1-a709-61c90fe45467"
      },
      "source": [
        "a = torch.Tensor([[[[1], [3]], [[9], [11]]],\r\n",
        "          [[[2], [4]], [[10], [12]]],\r\n",
        "          [[[5], [7]], [[13], [15]]],\r\n",
        "          [[[6], [8]], [[14], [16]]]])\r\n",
        "print(a.size())\r\n",
        "bs = a.size(0)\r\n",
        "cs = a.size(1)\r\n",
        "hs = a.size(2)\r\n",
        "ws = a.size(3)"
      ],
      "execution_count": 44,
      "outputs": [
        {
          "output_type": "stream",
          "text": [
            "torch.Size([4, 2, 2, 1])\n"
          ],
          "name": "stdout"
        }
      ]
    },
    {
      "cell_type": "code",
      "metadata": {
        "id": "sf-jzz-s8vVo"
      },
      "source": [
        "block_s = (2, 2)"
      ],
      "execution_count": 45,
      "outputs": []
    },
    {
      "cell_type": "code",
      "metadata": {
        "id": "g9KcO-s07Z7I"
      },
      "source": [
        "_bs = bs//block_s[1]\r\n",
        "_hs = hs*block_s[1]\r\n",
        "b = a.reshape((_bs, block_s[1], cs, hs, ws))\r\n",
        "b = b.permute(0, 2, 3, 1, 4) #_bs, cs, _hs, block_s[1], ws\r\n",
        "b = b.reshape((_bs, cs, _hs, ws))\r\n",
        "print(b)\r\n",
        "\r\n",
        "_bs = _bs//block_s[0]\r\n",
        "_cs = cs*block_s[0]\r\n",
        "b = b.reshape((_bs, block_s[0], cs, _hs, ws))\r\n",
        "b = b.permute(0, 2, 1, 3, 4) #_bs, cs, block_s[0], _hs, ws\r\n",
        "b = b.reshape((_bs, _cs, _hs, ws))\r\n",
        "print(b)"
      ],
      "execution_count": null,
      "outputs": []
    },
    {
      "cell_type": "markdown",
      "metadata": {
        "id": "bI6f7o2z01_K"
      },
      "source": [
        "## space to batch"
      ]
    },
    {
      "cell_type": "code",
      "metadata": {
        "colab": {
          "base_uri": "https://localhost:8080/"
        },
        "id": "TE9cMkjt01oG",
        "outputId": "c403356e-6475-423f-f30e-85cb06589c7e"
      },
      "source": [
        "a = torch.Tensor([[[[1.], [2.], [3.], [4.]],\r\n",
        "           [[5.], [6.], [7.], [8.]],\r\n",
        "           [[9.], [10.], [11.], [12.]],\r\n",
        "           [[13.], [14.], [15.], [16.]]]])\r\n",
        "print(a.size())\r\n",
        "bs = a.size(0)\r\n",
        "cs = a.size(1)\r\n",
        "hs = a.size(2)\r\n",
        "ws = a.size(3)"
      ],
      "execution_count": 15,
      "outputs": [
        {
          "output_type": "stream",
          "text": [
            "torch.Size([1, 4, 4, 1])\n"
          ],
          "name": "stdout"
        }
      ]
    },
    {
      "cell_type": "code",
      "metadata": {
        "id": "l7n9jQbM0-4B"
      },
      "source": [
        "block_s = (2, 2)"
      ],
      "execution_count": 16,
      "outputs": []
    },
    {
      "cell_type": "code",
      "metadata": {
        "colab": {
          "base_uri": "https://localhost:8080/"
        },
        "id": "cqSwc7490_fB",
        "outputId": "e9e656ec-b706-4f1d-c005-4e121c44aab9"
      },
      "source": [
        "_bs = bs*block_s[0]\r\n",
        "_cs = cs//block_s[0]\r\n",
        "b = a.reshape((bs, _cs, block_s[0], hs, ws))\r\n",
        "b = b.permute(0, 2, 1, 3, 4)\r\n",
        "b = b.reshape((_bs, _cs, hs, ws))\r\n",
        "print(b)\r\n",
        "\r\n",
        "_hs = hs//block_s[1]\r\n",
        "b = b.reshape((_bs, _cs, _hs, block_s[1], ws))\r\n",
        "b = b.permute(0, 3, 1, 2, 4)\r\n",
        "_bs = _bs*block_s[1]\r\n",
        "b = b.reshape((_bs, _cs, _hs, ws))\r\n",
        "print(b)"
      ],
      "execution_count": 18,
      "outputs": [
        {
          "output_type": "stream",
          "text": [
            "tensor([[[[ 1.],\n",
            "          [ 2.],\n",
            "          [ 3.],\n",
            "          [ 4.]],\n",
            "\n",
            "         [[ 9.],\n",
            "          [10.],\n",
            "          [11.],\n",
            "          [12.]]],\n",
            "\n",
            "\n",
            "        [[[ 5.],\n",
            "          [ 6.],\n",
            "          [ 7.],\n",
            "          [ 8.]],\n",
            "\n",
            "         [[13.],\n",
            "          [14.],\n",
            "          [15.],\n",
            "          [16.]]]])\n",
            "tensor([[[[ 1.],\n",
            "          [ 3.]],\n",
            "\n",
            "         [[ 9.],\n",
            "          [11.]]],\n",
            "\n",
            "\n",
            "        [[[ 2.],\n",
            "          [ 4.]],\n",
            "\n",
            "         [[10.],\n",
            "          [12.]]],\n",
            "\n",
            "\n",
            "        [[[ 5.],\n",
            "          [ 7.]],\n",
            "\n",
            "         [[13.],\n",
            "          [15.]]],\n",
            "\n",
            "\n",
            "        [[[ 6.],\n",
            "          [ 8.]],\n",
            "\n",
            "         [[14.],\n",
            "          [16.]]]])\n"
          ],
          "name": "stdout"
        }
      ]
    },
    {
      "cell_type": "code",
      "metadata": {
        "id": "5d_bvh-a6ZjA"
      },
      "source": [
        ""
      ],
      "execution_count": null,
      "outputs": []
    }
  ]
}