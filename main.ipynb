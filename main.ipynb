{
  "nbformat": 4,
  "nbformat_minor": 0,
  "metadata": {
    "colab": {
      "name": "歡迎使用 Colaboratory",
      "provenance": [],
      "collapsed_sections": [],
      "include_colab_link": true
    },
    "kernelspec": {
      "display_name": "Python 3",
      "name": "python3"
    }
  },
  "cells": [
    {
      "cell_type": "markdown",
      "metadata": {
        "id": "view-in-github",
        "colab_type": "text"
      },
      "source": [
        "<a href=\"https://colab.research.google.com/github/PanTongLin/PanTongLin.github.io/blob/master/main.ipynb\" target=\"_parent\"><img src=\"https://colab.research.google.com/assets/colab-badge.svg\" alt=\"Open In Colab\"/></a>"
      ]
    },
    {
      "cell_type": "code",
      "metadata": {
        "id": "Kh9ovATi6WYm"
      },
      "source": [
        "import torch"
      ],
      "execution_count": null,
      "outputs": []
    },
    {
      "cell_type": "markdown",
      "metadata": {
        "id": "dZWnjU_A0uvx"
      },
      "source": [
        "## batch to space"
      ]
    },
    {
      "cell_type": "code",
      "metadata": {
        "id": "Gsrm1GIE6rcb"
      },
      "source": [
        "a = torch.Tensor([[[[1], [3]], [[9], [11]]],\r\n",
        "          [[[2], [4]], [[10], [12]]],\r\n",
        "          [[[5], [7]], [[13], [15]]],\r\n",
        "          [[[6], [8]], [[14], [16]]]])\r\n",
        "print(a.size())\r\n",
        "bs = a.size(0)\r\n",
        "hs = a.size(1)\r\n",
        "ws = a.size(2)\r\n",
        "cs = a.size(3)"
      ],
      "execution_count": null,
      "outputs": []
    },
    {
      "cell_type": "code",
      "metadata": {
        "id": "sf-jzz-s8vVo"
      },
      "source": [
        "block_s = (2, 2)"
      ],
      "execution_count": null,
      "outputs": []
    },
    {
      "cell_type": "code",
      "metadata": {
        "id": "g9KcO-s07Z7I"
      },
      "source": [
        "_bs = bs//block_s[1]\r\n",
        "_ws = ws*block_s[1]\r\n",
        "b = a.reshape((_bs, block_s[1], hs, ws, cs))\r\n",
        "b = b.permute(0, 2, 3, 1, 4) #_bs, hs, _ws, block_s[1], cs\r\n",
        "b = b.reshape((_bs, hs, _ws, cs))\r\n",
        "print(b)\r\n",
        "\r\n",
        "_bs = _bs//block_s[0]\r\n",
        "_hs = hs*block_s[0]\r\n",
        "b = b.reshape((_bs, block_s[0], hs, _ws, cs))\r\n",
        "b = b.permute(0, 2, 1, 3, 4) #_bs, hw, block_s[0], _ws, cs\r\n",
        "b = b.reshape((_bs, _hs, _ws, cs))\r\n",
        "print(b)"
      ],
      "execution_count": null,
      "outputs": []
    },
    {
      "cell_type": "markdown",
      "metadata": {
        "id": "bI6f7o2z01_K"
      },
      "source": [
        "## space to batch"
      ]
    },
    {
      "cell_type": "code",
      "metadata": {
        "id": "TE9cMkjt01oG"
      },
      "source": [
        "a = torch.Tensor([[[[1.], [2.], [3.], [4.]],\r\n",
        "           [[5.], [6.], [7.], [8.]],\r\n",
        "           [[9.], [10.], [11.], [12.]],\r\n",
        "           [[13.], [14.], [15.], [16.]]]])\r\n",
        "print(a.size())\r\n",
        "bs = a.size(0)\r\n",
        "hs = a.size(1)\r\n",
        "ws = a.size(2)\r\n",
        "cs = a.size(3)"
      ],
      "execution_count": null,
      "outputs": []
    },
    {
      "cell_type": "code",
      "metadata": {
        "id": "l7n9jQbM0-4B"
      },
      "source": [
        "block_s = (2, 2)"
      ],
      "execution_count": null,
      "outputs": []
    },
    {
      "cell_type": "code",
      "metadata": {
        "id": "cqSwc7490_fB"
      },
      "source": [
        "_bs = bs*block_s[0]\r\n",
        "_hs = hs//block_s[0]\r\n",
        "b = a.reshape((bs, _hs, block_s[0], ws, cs))\r\n",
        "b = b.permute(0, 2, 1, 3, 4)\r\n",
        "b = b.reshape((_bs, _hs, ws, cs))\r\n",
        "print(b)\r\n",
        "\r\n",
        "_ws = ws//block_s[1]\r\n",
        "b = b.reshape((_bs, _hs, _ws, block_s[1], cs))\r\n",
        "b = b.permute(0, 3, 1, 2, 4)\r\n",
        "_bs = _bs*block_s[1]\r\n",
        "b = b.reshape((_bs, _hs, _ws, cs))\r\n",
        "print(b)"
      ],
      "execution_count": null,
      "outputs": []
    },
    {
      "cell_type": "markdown",
      "metadata": {
        "id": "UA69BFoy-yPB"
      },
      "source": [
        "## space to depth"
      ]
    },
    {
      "cell_type": "code",
      "metadata": {
        "colab": {
          "base_uri": "https://localhost:8080/"
        },
        "id": "5d_bvh-a6ZjA",
        "outputId": "ba640bbd-279b-476f-a708-9639a65a3db6"
      },
      "source": [
        "a = torch.Tensor([[[[1.], [2.], [5.], [6.]],\r\n",
        "           [[3.], [4.], [7.], [8.]],\r\n",
        "           [[9.], [10.], [13.], [14.]],\r\n",
        "           [[11.], [12.], [15.], [16.]]]])\r\n",
        "print(a.size())\r\n",
        "bs = a.size(0)\r\n",
        "hs = a.size(1)\r\n",
        "ws = a.size(2)\r\n",
        "cs = a.size(3)"
      ],
      "execution_count": null,
      "outputs": [
        {
          "output_type": "stream",
          "text": [
            "torch.Size([1, 4, 4, 1])\n"
          ],
          "name": "stdout"
        }
      ]
    },
    {
      "cell_type": "code",
      "metadata": {
        "id": "kDhDLhvq-5dI"
      },
      "source": [
        "block_s = 2"
      ],
      "execution_count": null,
      "outputs": []
    },
    {
      "cell_type": "code",
      "metadata": {
        "id": "pooUSpdT-824",
        "colab": {
          "base_uri": "https://localhost:8080/"
        },
        "outputId": "7281d893-a926-42bd-d468-bd47e917a71e"
      },
      "source": [
        "_hs = hs//block_s\r\n",
        "_ws = ws//block_s\r\n",
        "_cs = cs*block_s*block_s\r\n",
        "b = a.reshape((bs, _hs, block_s, _ws, block_s, cs))\r\n",
        "b = b.permute(0, 1, 3, 2, 4, 5)\r\n",
        "b = b.reshape((bs, _hs, _ws, _cs))\r\n",
        "print(b)"
      ],
      "execution_count": null,
      "outputs": [
        {
          "output_type": "stream",
          "text": [
            "tensor([[[[ 1.,  2.,  3.,  4.],\n",
            "          [ 5.,  6.,  7.,  8.]],\n",
            "\n",
            "         [[ 9., 10., 11., 12.],\n",
            "          [13., 14., 15., 16.]]]])\n"
          ],
          "name": "stdout"
        }
      ]
    },
    {
      "cell_type": "code",
      "metadata": {
        "id": "HP2HNyv_J-zA"
      },
      "source": [
        "import tensorflow as tf"
      ],
      "execution_count": 2,
      "outputs": []
    },
    {
      "cell_type": "code",
      "metadata": {
        "id": "vwr7K2v9J7_S",
        "outputId": "76996900-a6c5-4f18-e969-c1d7c2b11915",
        "colab": {
          "base_uri": "https://localhost:8080/"
        }
      },
      "source": [
        "t = tf.constant([[[1, 1, 1], [2, 2, 2]],\r\n",
        "                 [[3, 3, 3], [4, 4, 4]],\r\n",
        "                 [[5, 5, 5], [6, 6, 6]]])\r\n",
        "print(tf.strided_slice(t, [1, 0, 0], [2, 1, 3], [1, 1, 1]))  # [[[3, 3, 3]]]\r\n",
        "print(tf.strided_slice(t, [1, 0, 0], [2, 1, 1], [1, 1, 1]))  # [[[3, 3, 3]]]"
      ],
      "execution_count": 10,
      "outputs": [
        {
          "output_type": "stream",
          "text": [
            "tf.Tensor([[[3 3 3]]], shape=(1, 1, 3), dtype=int32)\n",
            "tf.Tensor([[[3]]], shape=(1, 1, 1), dtype=int32)\n"
          ],
          "name": "stdout"
        }
      ]
    },
    {
      "cell_type": "code",
      "metadata": {
        "id": "0cfFXVF-MUjN",
        "outputId": "d57715c9-c3ea-4bb9-c860-9fec2de8a7e4",
        "colab": {
          "base_uri": "https://localhost:8080/",
          "height": 369
        }
      },
      "source": [
        "t = [tf.constant([i, i, i, i]) for i in range(4)]\r\n",
        "output = tf.constant([0, 0, 0, 0])\r\n",
        "\r\n",
        "output = tf.raw_ops.While(t, output>2, body)\r\n",
        "\r\n",
        "output"
      ],
      "execution_count": 22,
      "outputs": [
        {
          "output_type": "stream",
          "text": [
            "tf.Tensor([False False False False], shape=(4,), dtype=bool)\n"
          ],
          "name": "stdout"
        },
        {
          "output_type": "error",
          "ename": "TypeError",
          "evalue": "ignored",
          "traceback": [
            "\u001b[0;31m---------------------------------------------------------------------------\u001b[0m",
            "\u001b[0;31mTypeError\u001b[0m                                 Traceback (most recent call last)",
            "\u001b[0;32m<ipython-input-22-1ef976a0e44f>\u001b[0m in \u001b[0;36m<module>\u001b[0;34m()\u001b[0m\n\u001b[1;32m      3\u001b[0m \u001b[0mbody\u001b[0m \u001b[0;34m=\u001b[0m \u001b[0;34m[\u001b[0m\u001b[0mtf\u001b[0m\u001b[0;34m.\u001b[0m\u001b[0mconstant\u001b[0m\u001b[0;34m(\u001b[0m\u001b[0;34m[\u001b[0m\u001b[0mi\u001b[0m\u001b[0;34m,\u001b[0m \u001b[0mi\u001b[0m\u001b[0;34m,\u001b[0m \u001b[0mi\u001b[0m\u001b[0;34m,\u001b[0m \u001b[0mi\u001b[0m\u001b[0;34m]\u001b[0m\u001b[0;34m)\u001b[0m \u001b[0;32mfor\u001b[0m \u001b[0mi\u001b[0m \u001b[0;32min\u001b[0m \u001b[0mrange\u001b[0m\u001b[0;34m(\u001b[0m\u001b[0;36m4\u001b[0m\u001b[0;34m,\u001b[0m\u001b[0;36m8\u001b[0m\u001b[0;34m)\u001b[0m\u001b[0;34m]\u001b[0m\u001b[0;34m\u001b[0m\u001b[0;34m\u001b[0m\u001b[0m\n\u001b[1;32m      4\u001b[0m \u001b[0mprint\u001b[0m\u001b[0;34m(\u001b[0m\u001b[0moutput\u001b[0m\u001b[0;34m>\u001b[0m\u001b[0;36m2\u001b[0m\u001b[0;34m)\u001b[0m\u001b[0;34m\u001b[0m\u001b[0;34m\u001b[0m\u001b[0m\n\u001b[0;32m----> 5\u001b[0;31m \u001b[0moutput\u001b[0m \u001b[0;34m=\u001b[0m \u001b[0mtf\u001b[0m\u001b[0;34m.\u001b[0m\u001b[0mraw_ops\u001b[0m\u001b[0;34m.\u001b[0m\u001b[0mWhile\u001b[0m\u001b[0;34m(\u001b[0m\u001b[0mt\u001b[0m\u001b[0;34m,\u001b[0m \u001b[0moutput\u001b[0m\u001b[0;34m>\u001b[0m\u001b[0;36m2\u001b[0m\u001b[0;34m,\u001b[0m \u001b[0mbody\u001b[0m\u001b[0;34m)\u001b[0m\u001b[0;34m\u001b[0m\u001b[0;34m\u001b[0m\u001b[0m\n\u001b[0m\u001b[1;32m      6\u001b[0m \u001b[0;34m\u001b[0m\u001b[0m\n\u001b[1;32m      7\u001b[0m \u001b[0moutput\u001b[0m\u001b[0;34m\u001b[0m\u001b[0;34m\u001b[0m\u001b[0m\n",
            "\u001b[0;32m/usr/local/lib/python3.6/dist-packages/tensorflow/python/util/tf_export.py\u001b[0m in \u001b[0;36mwrapper\u001b[0;34m(*args, **kwargs)\u001b[0m\n\u001b[1;32m    401\u001b[0m           \u001b[0;34m'{f} only takes keyword args (possible keys: {kwargs}). '\u001b[0m\u001b[0;34m\u001b[0m\u001b[0;34m\u001b[0m\u001b[0m\n\u001b[1;32m    402\u001b[0m           \u001b[0;34m'Please pass these args as kwargs instead.'\u001b[0m\u001b[0;34m\u001b[0m\u001b[0;34m\u001b[0m\u001b[0m\n\u001b[0;32m--> 403\u001b[0;31m           .format(f=f.__name__, kwargs=f_argspec.args))\n\u001b[0m\u001b[1;32m    404\u001b[0m     \u001b[0;32mreturn\u001b[0m \u001b[0mf\u001b[0m\u001b[0;34m(\u001b[0m\u001b[0;34m**\u001b[0m\u001b[0mkwargs\u001b[0m\u001b[0;34m)\u001b[0m\u001b[0;34m\u001b[0m\u001b[0;34m\u001b[0m\u001b[0m\n\u001b[1;32m    405\u001b[0m \u001b[0;34m\u001b[0m\u001b[0m\n",
            "\u001b[0;31mTypeError\u001b[0m: _while only takes keyword args (possible keys: ['input', 'cond', 'body', 'output_shapes', 'parallel_iterations', 'name']). Please pass these args as kwargs instead."
          ]
        }
      ]
    }
  ]
}